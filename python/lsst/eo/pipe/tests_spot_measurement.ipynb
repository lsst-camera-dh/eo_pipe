{
 "cells": [
  {
   "cell_type": "code",
   "execution_count": 1,
   "id": "36ea535e-424a-4e57-b803-65ddd26a9631",
   "metadata": {
    "execution": {
     "iopub.execute_input": "2025-04-08T14:43:37.607642Z",
     "iopub.status.busy": "2025-04-08T14:43:37.607141Z",
     "iopub.status.idle": "2025-04-08T14:43:39.815388Z",
     "shell.execute_reply": "2025-04-08T14:43:39.814935Z",
     "shell.execute_reply.started": "2025-04-08T14:43:37.607616Z"
    }
   },
   "outputs": [],
   "source": [
    "from photometry import Spot, ImageData, AperturePhotometry\n",
    "import numpy as np\n",
    "import matplotlib.pyplot as plt"
   ]
  },
  {
   "cell_type": "markdown",
   "id": "2a14dfc0-a208-4e25-91c3-a95bdad8d03f",
   "metadata": {},
   "source": [
    "### ImageData Module"
   ]
  },
  {
   "cell_type": "code",
   "execution_count": 23,
   "id": "2486345e-3f54-4be6-9758-ea9439455711",
   "metadata": {
    "execution": {
     "iopub.execute_input": "2025-04-08T14:46:16.700275Z",
     "iopub.status.busy": "2025-04-08T14:46:16.699983Z",
     "iopub.status.idle": "2025-04-08T14:46:16.704039Z",
     "shell.execute_reply": "2025-04-08T14:46:16.703622Z",
     "shell.execute_reply.started": "2025-04-08T14:46:16.700260Z"
    }
   },
   "outputs": [],
   "source": [
    "repo = \"embargo_new\"\n",
    "collections = [\"LSSTComCam/nightlyValidation\"]\n",
    "instrument='LSSTComCam'\n",
    "exposure=2024121000100\n",
    "dataId={\"exposure\":exposure,\"detector\":7}\n",
    "datasetType='postISRCCD'\n",
    "idata = ImageData(repo=repo)"
   ]
  },
  {
   "cell_type": "code",
   "execution_count": 24,
   "id": "2a947e1d-a13b-4f00-8ca4-f9708b0303c9",
   "metadata": {
    "execution": {
     "iopub.execute_input": "2025-04-08T14:46:17.334546Z",
     "iopub.status.busy": "2025-04-08T14:46:17.334176Z",
     "iopub.status.idle": "2025-04-08T14:46:17.554004Z",
     "shell.execute_reply": "2025-04-08T14:46:17.553582Z",
     "shell.execute_reply.started": "2025-04-08T14:46:17.334524Z"
    }
   },
   "outputs": [
    {
     "name": "stdout",
     "output_type": "stream",
     "text": [
      "One dataset found\n"
     ]
    }
   ],
   "source": [
    "idata.instrument= instrument\n",
    "idata.dataId = dataId\n",
    "idata.datasetType = datasetType\n",
    "idata.collections = collections\n",
    "datasets = idata.get_datasets()\n",
    "# can also access with idata.datasets"
   ]
  },
  {
   "cell_type": "code",
   "execution_count": 25,
   "id": "cb41da1d-011b-4b24-ab7c-4ddc622bd803",
   "metadata": {
    "execution": {
     "iopub.execute_input": "2025-04-08T14:46:18.157882Z",
     "iopub.status.busy": "2025-04-08T14:46:18.157579Z",
     "iopub.status.idle": "2025-04-08T14:46:19.018878Z",
     "shell.execute_reply": "2025-04-08T14:46:19.018491Z",
     "shell.execute_reply.started": "2025-04-08T14:46:18.157866Z"
    }
   },
   "outputs": [
    {
     "name": "stdout",
     "output_type": "stream",
     "text": [
      "One dataset found\n"
     ]
    }
   ],
   "source": [
    "image = idata.get_image() #If no dataset passed, it will try to detect one and take it\n",
    "# can also access with idata.image"
   ]
  },
  {
   "cell_type": "code",
   "execution_count": 9,
   "id": "94173fd0-ac32-4e1b-aa30-69c959ed3246",
   "metadata": {
    "execution": {
     "iopub.execute_input": "2025-04-08T13:27:45.826260Z",
     "iopub.status.busy": "2025-04-08T13:27:45.826134Z",
     "iopub.status.idle": "2025-04-08T13:27:46.780119Z",
     "shell.execute_reply": "2025-04-08T13:27:46.779783Z",
     "shell.execute_reply.started": "2025-04-08T13:27:45.826248Z"
    }
   },
   "outputs": [
    {
     "name": "stdout",
     "output_type": "stream",
     "text": [
      "One dataset found\n"
     ]
    }
   ],
   "source": [
    "#One can also pass a dataset one ref only\n",
    "idata.dataId = {\"exposure\":2024121000103,\"detector\":7}\n",
    "dataset_2 = idata.get_datasets()\n",
    "image_2 = idata.get_image(dataset=dataset_2[0])"
   ]
  },
  {
   "cell_type": "code",
   "execution_count": 26,
   "id": "183b7021-6fb3-470f-9ba6-827c3b52c5a2",
   "metadata": {
    "execution": {
     "iopub.execute_input": "2025-04-08T14:46:19.660442Z",
     "iopub.status.busy": "2025-04-08T14:46:19.660111Z",
     "iopub.status.idle": "2025-04-08T14:46:20.709805Z",
     "shell.execute_reply": "2025-04-08T14:46:20.709316Z",
     "shell.execute_reply.started": "2025-04-08T14:46:19.660424Z"
    }
   },
   "outputs": [],
   "source": [
    "# We can also use defered datasets\n",
    "import lsst.daf.butler as daf_butler\n",
    "butler = daf_butler.Butler(repo, collections=collections)\n",
    "exposure_handle = daf_butler.DeferredDatasetHandle(butler, datasets[0], None)\n",
    "idata = ImageData(exposure_handle=exposure_handle, repo=repo)\n",
    "image = idata.get_image_from_handle()"
   ]
  },
  {
   "cell_type": "markdown",
   "id": "5c6c73ca-db50-4448-aecc-3af7e26b91f5",
   "metadata": {},
   "source": [
    "### Spot Module"
   ]
  },
  {
   "cell_type": "code",
   "execution_count": 27,
   "id": "cb4a45eb-4c55-43c0-a412-38b44b6e900e",
   "metadata": {
    "execution": {
     "iopub.execute_input": "2025-04-08T14:46:20.710699Z",
     "iopub.status.busy": "2025-04-08T14:46:20.710557Z",
     "iopub.status.idle": "2025-04-08T14:46:20.713039Z",
     "shell.execute_reply": "2025-04-08T14:46:20.712691Z",
     "shell.execute_reply.started": "2025-04-08T14:46:20.710687Z"
    }
   },
   "outputs": [],
   "source": [
    "sp = Spot(mask_size = 150) #We give the size of the mask pinhole, it remains an indicator only"
   ]
  },
  {
   "cell_type": "code",
   "execution_count": 28,
   "id": "932f0bda-5818-4e12-b15e-5c9a36932726",
   "metadata": {
    "execution": {
     "iopub.execute_input": "2025-04-08T14:46:21.533941Z",
     "iopub.status.busy": "2025-04-08T14:46:21.533744Z",
     "iopub.status.idle": "2025-04-08T14:46:21.536056Z",
     "shell.execute_reply": "2025-04-08T14:46:21.535645Z",
     "shell.execute_reply.started": "2025-04-08T14:46:21.533927Z"
    }
   },
   "outputs": [],
   "source": [
    "# Load the image we want"
   ]
  },
  {
   "cell_type": "code",
   "execution_count": 29,
   "id": "9db6ebbe-aac0-4262-b61b-8a6043e42c5d",
   "metadata": {
    "execution": {
     "iopub.execute_input": "2025-04-08T14:46:21.668264Z",
     "iopub.status.busy": "2025-04-08T14:46:21.667740Z",
     "iopub.status.idle": "2025-04-08T14:46:22.510294Z",
     "shell.execute_reply": "2025-04-08T14:46:22.509784Z",
     "shell.execute_reply.started": "2025-04-08T14:46:21.668248Z"
    }
   },
   "outputs": [
    {
     "name": "stdout",
     "output_type": "stream",
     "text": [
      "One dataset found\n"
     ]
    }
   ],
   "source": [
    "idata = ImageData(exposure_handle, repo=repo)\n",
    "exposure_handle = daf_butler.DeferredDatasetHandle(butler, datasets[0], None)\n",
    "image = idata.get_image()"
   ]
  },
  {
   "cell_type": "code",
   "execution_count": 30,
   "id": "43922e19-fb39-451d-a436-da37a989cf0d",
   "metadata": {
    "execution": {
     "iopub.execute_input": "2025-04-08T14:46:22.511359Z",
     "iopub.status.busy": "2025-04-08T14:46:22.511116Z",
     "iopub.status.idle": "2025-04-08T14:46:22.514015Z",
     "shell.execute_reply": "2025-04-08T14:46:22.513634Z",
     "shell.execute_reply.started": "2025-04-08T14:46:22.511344Z"
    }
   },
   "outputs": [
    {
     "name": "stdout",
     "output_type": "stream",
     "text": [
      "46584.59020688224\n"
     ]
    }
   ],
   "source": [
    "#One can get the estimated area of the spot on the focal plane\n",
    "sp.get_mask_size()\n",
    "print(sp.mask_area_fp_px)"
   ]
  },
  {
   "cell_type": "code",
   "execution_count": 31,
   "id": "fc05877c-f671-48de-80ff-ad1d7a921f6d",
   "metadata": {
    "execution": {
     "iopub.execute_input": "2025-04-08T14:46:22.514562Z",
     "iopub.status.busy": "2025-04-08T14:46:22.514430Z",
     "iopub.status.idle": "2025-04-08T14:46:22.545157Z",
     "shell.execute_reply": "2025-04-08T14:46:22.544694Z",
     "shell.execute_reply.started": "2025-04-08T14:46:22.514551Z"
    }
   },
   "outputs": [
    {
     "name": "stdout",
     "output_type": "stream",
     "text": [
      "[618 peaks, area=1896, centroid=(3549, 1051.5), 5759 peaks, area=69473, centroid=(1669.8, 2586.53)]\n"
     ]
    }
   ],
   "source": [
    "found_spot = sp.find_spot(idata.img.getImage(), threshold_adu=100,minarea=1000) #Need to pass an afw image*\n",
    "print(found_spot)"
   ]
  },
  {
   "cell_type": "code",
   "execution_count": 32,
   "id": "1ca39c2e-5a16-4c50-91b2-3514d161311e",
   "metadata": {
    "execution": {
     "iopub.execute_input": "2025-04-08T14:46:22.546229Z",
     "iopub.status.busy": "2025-04-08T14:46:22.545941Z",
     "iopub.status.idle": "2025-04-08T14:46:22.551016Z",
     "shell.execute_reply": "2025-04-08T14:46:22.550671Z",
     "shell.execute_reply.started": "2025-04-08T14:46:22.546215Z"
    }
   },
   "outputs": [],
   "source": [
    "found_spot.sort(key=lambda x: x.getArea(), reverse=True)"
   ]
  },
  {
   "cell_type": "code",
   "execution_count": 33,
   "id": "5e1328da-27b6-45b3-a1c5-b515d49c4855",
   "metadata": {
    "execution": {
     "iopub.execute_input": "2025-04-08T14:46:23.415915Z",
     "iopub.status.busy": "2025-04-08T14:46:23.415585Z",
     "iopub.status.idle": "2025-04-08T14:46:23.504796Z",
     "shell.execute_reply": "2025-04-08T14:46:23.504350Z",
     "shell.execute_reply.started": "2025-04-08T14:46:23.415897Z"
    },
    "scrolled": true
   },
   "outputs": [
    {
     "name": "stdout",
     "output_type": "stream",
     "text": [
      "[4525 peaks, area=43120, centroid=(1666.13, 2592.75)]\n"
     ]
    }
   ],
   "source": [
    "iteratively_found_spot = sp.find_spot_iteratively(idata.img.getImage(), threshold_adu_min=10,threshold_adu_max=100000,minarea=1000)\n",
    "print(iteratively_found_spot)"
   ]
  },
  {
   "cell_type": "code",
   "execution_count": 34,
   "id": "91b67b0f-68d4-4821-aa65-8ebcd65ac6e2",
   "metadata": {
    "execution": {
     "iopub.execute_input": "2025-04-08T14:46:24.883746Z",
     "iopub.status.busy": "2025-04-08T14:46:24.883434Z",
     "iopub.status.idle": "2025-04-08T14:46:24.886522Z",
     "shell.execute_reply": "2025-04-08T14:46:24.886143Z",
     "shell.execute_reply.started": "2025-04-08T14:46:24.883728Z"
    }
   },
   "outputs": [
    {
     "name": "stdout",
     "output_type": "stream",
     "text": [
      "(1666.1, 2592.7) 1666.1327226345084 2592.7469851576993 117.15597420637607\n"
     ]
    }
   ],
   "source": [
    "sp.get_spot_information() # Get the information from the spot, if no spot passed, will use the last ones detected \n",
    "print(sp.centroid, sp.x, sp.y, sp.radius)"
   ]
  },
  {
   "cell_type": "code",
   "execution_count": 35,
   "id": "d0feca6b-5861-48df-9126-5810c35c192b",
   "metadata": {
    "execution": {
     "iopub.execute_input": "2025-04-08T14:46:26.468793Z",
     "iopub.status.busy": "2025-04-08T14:46:26.468437Z",
     "iopub.status.idle": "2025-04-08T14:46:26.471482Z",
     "shell.execute_reply": "2025-04-08T14:46:26.471124Z",
     "shell.execute_reply.started": "2025-04-08T14:46:26.468777Z"
    }
   },
   "outputs": [
    {
     "name": "stdout",
     "output_type": "stream",
     "text": [
      "(1669.8, 2586.5) 1669.7968131504326 2586.5290976350525 148.70757453084389\n"
     ]
    }
   ],
   "source": [
    "#Be carefull here, if multiple spots, only take the first one\n",
    "sp.get_spot_information(spot = found_spot[0])\n",
    "print(sp.centroid, sp.x, sp.y, sp.radius)"
   ]
  },
  {
   "cell_type": "code",
   "execution_count": 36,
   "id": "affbc542-65fa-47b8-b28e-092dae16856e",
   "metadata": {
    "execution": {
     "iopub.execute_input": "2025-04-08T14:46:27.107252Z",
     "iopub.status.busy": "2025-04-08T14:46:27.106900Z",
     "iopub.status.idle": "2025-04-08T14:46:27.136403Z",
     "shell.execute_reply": "2025-04-08T14:46:27.135981Z",
     "shell.execute_reply.started": "2025-04-08T14:46:27.107234Z"
    }
   },
   "outputs": [
    {
     "name": "stdout",
     "output_type": "stream",
     "text": [
      "[5759 peaks, area=69473, centroid=(1669.8, 2586.53)]\n",
      "(1669.8, 2586.5) 1669.7968131504326 2586.5290976350525 148.70757453084389\n"
     ]
    }
   ],
   "source": [
    "# We can use the previously determined area\n",
    "minarea = int(sp.mask_area_fp_px*.9)\n",
    "found_spot = sp.find_spot(idata.img.getImage(), threshold_adu=100,minarea=minarea)\n",
    "print(found_spot)\n",
    "sp.get_spot_information(spot = found_spot[0])\n",
    "print(sp.centroid, sp.x, sp.y, sp.radius)"
   ]
  },
  {
   "cell_type": "code",
   "execution_count": 37,
   "id": "ebd0d5ab-193d-435f-a0e3-cdedfcf3b7d2",
   "metadata": {
    "execution": {
     "iopub.execute_input": "2025-04-08T14:46:28.381604Z",
     "iopub.status.busy": "2025-04-08T14:46:28.381330Z",
     "iopub.status.idle": "2025-04-08T14:46:28.448740Z",
     "shell.execute_reply": "2025-04-08T14:46:28.448333Z",
     "shell.execute_reply.started": "2025-04-08T14:46:28.381587Z"
    }
   },
   "outputs": [],
   "source": [
    "best_spot = sp.find_and_get_best_spot(idata.img.getImage())"
   ]
  },
  {
   "cell_type": "code",
   "execution_count": 38,
   "id": "abd8de1a-8a97-4add-bd91-6d103c94b3ae",
   "metadata": {
    "execution": {
     "iopub.execute_input": "2025-04-08T14:46:28.550278Z",
     "iopub.status.busy": "2025-04-08T14:46:28.550034Z",
     "iopub.status.idle": "2025-04-08T14:46:28.553292Z",
     "shell.execute_reply": "2025-04-08T14:46:28.552943Z",
     "shell.execute_reply.started": "2025-04-08T14:46:28.550262Z"
    }
   },
   "outputs": [
    {
     "data": {
      "text/plain": [
       "4525 peaks, area=43120, centroid=(1666.13, 2592.75)"
      ]
     },
     "execution_count": 38,
     "metadata": {},
     "output_type": "execute_result"
    }
   ],
   "source": [
    "best_spot"
   ]
  },
  {
   "cell_type": "code",
   "execution_count": 39,
   "id": "fdc599fd-c0da-4c6f-92a0-23d4eabefca6",
   "metadata": {
    "execution": {
     "iopub.execute_input": "2025-04-08T14:46:33.453755Z",
     "iopub.status.busy": "2025-04-08T14:46:33.453493Z",
     "iopub.status.idle": "2025-04-08T14:46:33.456878Z",
     "shell.execute_reply": "2025-04-08T14:46:33.456508Z",
     "shell.execute_reply.started": "2025-04-08T14:46:33.453739Z"
    }
   },
   "outputs": [
    {
     "data": {
      "text/plain": [
       "(1666.1327226345084, 2592.7469851576993, np.float64(117.15597420637607))"
      ]
     },
     "execution_count": 39,
     "metadata": {},
     "output_type": "execute_result"
    }
   ],
   "source": [
    "sp.x, sp.y, sp.radius"
   ]
  },
  {
   "cell_type": "code",
   "execution_count": 22,
   "id": "b46e2ddd-5b71-48e1-90d7-f2fc7fa4ba30",
   "metadata": {
    "execution": {
     "iopub.execute_input": "2025-04-08T14:46:11.599152Z",
     "iopub.status.busy": "2025-04-08T14:46:11.598842Z",
     "iopub.status.idle": "2025-04-08T14:46:11.602398Z",
     "shell.execute_reply": "2025-04-08T14:46:11.601997Z",
     "shell.execute_reply.started": "2025-04-08T14:46:11.599130Z"
    }
   },
   "outputs": [
    {
     "data": {
      "text/plain": [
       "(0.0, 0.0, np.float64(0.5641895835477563))"
      ]
     },
     "execution_count": 22,
     "metadata": {},
     "output_type": "execute_result"
    }
   ],
   "source": [
    "sp.x, sp.y, sp.radius"
   ]
  },
  {
   "cell_type": "code",
   "execution_count": 41,
   "id": "0b0fad52-d8b7-4cec-abeb-5b535e247830",
   "metadata": {
    "execution": {
     "iopub.execute_input": "2025-04-08T14:56:08.932749Z",
     "iopub.status.busy": "2025-04-08T14:56:08.932325Z",
     "iopub.status.idle": "2025-04-08T14:56:08.969886Z",
     "shell.execute_reply": "2025-04-08T14:56:08.969505Z",
     "shell.execute_reply.started": "2025-04-08T14:56:08.932726Z"
    }
   },
   "outputs": [
    {
     "name": "stderr",
     "output_type": "stream",
     "text": [
      "WARNING: hdu= was not specified but multiple tables are present, reading in first available table (hdu=1) [astropy.io.fits.connect]\n"
     ]
    },
    {
     "data": {
      "text/html": [
       "<pre style=\"margin: 0.1em;\n",
       "padding-left: 0.25em;\n",
       "border-left-style: solid;\n",
       "font-family: var(--jp-code-font-family);\n",
       "font-size: var(--jp-code-font-size);\n",
       "line-height: var(--jp-code-line-height);\n",
       "\"><span style=\"color: var(--jp-warn-color2)\">astropy</span> <span style=\"color: var(--jp-warn-color0)\">WARNING</span>: hdu= was not specified but multiple tables are present, reading in first available table (hdu=1)</pre>"
      ],
      "text/plain": [
       "<IPython.core.display.HTML object>"
      ]
     },
     "metadata": {},
     "output_type": "display_data"
    }
   ],
   "source": [
    "from astropy.table import Table\n",
    "a = Table.read(\"/sdf/group/rubin/user/amouroux/DATA/CBP/Comcamspotmeasurement/test_eo_task/20241210_200.fits\")"
   ]
  },
  {
   "cell_type": "code",
   "execution_count": 42,
   "id": "02a9ec09-8114-4582-b412-10a6050f3da1",
   "metadata": {
    "execution": {
     "iopub.execute_input": "2025-04-08T14:56:15.219278Z",
     "iopub.status.busy": "2025-04-08T14:56:15.218959Z",
     "iopub.status.idle": "2025-04-08T14:56:15.225304Z",
     "shell.execute_reply": "2025-04-08T14:56:15.224928Z",
     "shell.execute_reply.started": "2025-04-08T14:56:15.219263Z"
    }
   },
   "outputs": [
    {
     "data": {
      "text/html": [
       "<div><i>Table length=18</i>\n",
       "<table id=\"table139709740296592\" class=\"table-striped table-bordered table-condensed\">\n",
       "<thead><tr><th>id</th><th>coord_ra</th><th>coord_dec</th><th>parent</th><th>detector</th><th>exposure</th><th>x</th><th>y</th><th>x_fp</th><th>y_fp</th><th>radius</th><th>signal</th><th>bkg_mean</th><th>bkg_std</th><th>footprint</th></tr></thead>\n",
       "<thead><tr><th></th><th>rad</th><th>rad</th><th></th><th></th><th></th><th></th><th></th><th></th><th></th><th></th><th></th><th></th><th></th><th></th></tr></thead>\n",
       "<thead><tr><th>int64</th><th>float64</th><th>float64</th><th>int64</th><th>bytes10</th><th>int64</th><th>float32</th><th>float32</th><th>float32</th><th>float32</th><th>float32</th><th>float32</th><th>float32</th><th>float32</th><th>int32</th></tr></thead>\n",
       "<tr><td>1</td><td>--</td><td>--</td><td>0</td><td>R22_S11</td><td>2024121000027</td><td>1852.9581</td><td>2583.203</td><td>-1.8354183</td><td>5.8270288</td><td>124.18324</td><td>28740756.0</td><td>5.0715957</td><td>0.0</td><td>0</td></tr>\n",
       "<tr><td>2</td><td>--</td><td>--</td><td>0</td><td>R22_S00</td><td>2024121000027</td><td>1920.2115</td><td>2274.4946</td><td>-43.412884</td><td>-39.51005</td><td>124.12684</td><td>29166896.0</td><td>4.763646</td><td>0.0</td><td>0</td></tr>\n",
       "<tr><td>3</td><td>--</td><td>--</td><td>0</td><td>R22_S02</td><td>2024121000027</td><td>2153.5437</td><td>2646.1648</td><td>43.420437</td><td>-35.79335</td><td>124.19606</td><td>29123442.0</td><td>5.454216</td><td>0.0</td><td>0</td></tr>\n",
       "<tr><td>4</td><td>--</td><td>--</td><td>0</td><td>R22_S22</td><td>2024121000027</td><td>1786.694</td><td>2885.7273</td><td>39.751938</td><td>51.102272</td><td>123.55108</td><td>27170416.0</td><td>6.6865454</td><td>0.0</td><td>0</td></tr>\n",
       "<tr><td>5</td><td>--</td><td>--</td><td>0</td><td>R22_S10</td><td>2024121000027</td><td>1727.6956</td><td>2395.2678</td><td>-45.338043</td><td>3.9476776</td><td>123.693985</td><td>28126378.0</td><td>5.137125</td><td>0.0</td><td>0</td></tr>\n",
       "<tr><td>6</td><td>--</td><td>--</td><td>0</td><td>R22_S01</td><td>2024121000027</td><td>2040.922</td><td>2458.9663</td><td>0.044220366</td><td>-37.665337</td><td>125.01606</td><td>30576934.0</td><td>5.6451054</td><td>0.0</td><td>0</td></tr>\n",
       "<tr><td>7</td><td>--</td><td>--</td><td>0</td><td>R22_S12</td><td>2024121000027</td><td>1973.0867</td><td>2768.2979</td><td>41.615868</td><td>7.6779795</td><td>124.08836</td><td>28464264.0</td><td>5.027025</td><td>0.0</td><td>0</td></tr>\n",
       "<tr><td>8</td><td>--</td><td>--</td><td>0</td><td>R22_S20</td><td>2024121000027</td><td>1548.7593</td><td>2520.468</td><td>-47.127407</td><td>47.44968</td><td>123.72357</td><td>28135420.0</td><td>4.4913683</td><td>0.0</td><td>0</td></tr>\n",
       "<tr><td>9</td><td>--</td><td>--</td><td>0</td><td>R22_S21</td><td>2024121000027</td><td>1666.1467</td><td>2702.8218</td><td>-3.7035327</td><td>49.273216</td><td>125.495094</td><td>31156176.0</td><td>5.871464</td><td>0.0</td><td>0</td></tr>\n",
       "<tr><td>10</td><td>--</td><td>--</td><td>0</td><td>R22_S12</td><td>2024121000030</td><td>0.0</td><td>0.0</td><td>0.0</td><td>0.0</td><td>0.5641896</td><td>-17817.238</td><td>4.0293484</td><td>0.0</td><td>0</td></tr>\n",
       "<tr><td>11</td><td>--</td><td>--</td><td>0</td><td>R22_S20</td><td>2024121000030</td><td>0.0</td><td>0.0</td><td>0.0</td><td>0.0</td><td>0.5641896</td><td>-8496.401</td><td>3.7520313</td><td>0.0</td><td>0</td></tr>\n",
       "<tr><td>12</td><td>--</td><td>--</td><td>0</td><td>R22_S10</td><td>2024121000030</td><td>0.0</td><td>0.0</td><td>0.0</td><td>0.0</td><td>0.5641896</td><td>9597.019</td><td>3.09976</td><td>0.0</td><td>0</td></tr>\n",
       "<tr><td>13</td><td>--</td><td>--</td><td>0</td><td>R22_S22</td><td>2024121000030</td><td>0.0</td><td>0.0</td><td>0.0</td><td>0.0</td><td>0.5641896</td><td>-21838.984</td><td>4.2245045</td><td>0.0</td><td>0</td></tr>\n",
       "<tr><td>14</td><td>--</td><td>--</td><td>0</td><td>R22_S01</td><td>2024121000030</td><td>0.0</td><td>0.0</td><td>0.0</td><td>0.0</td><td>0.5641896</td><td>-2354.8843</td><td>4.1281548</td><td>0.0</td><td>0</td></tr>\n",
       "<tr><td>15</td><td>--</td><td>--</td><td>0</td><td>R22_S21</td><td>2024121000030</td><td>0.0</td><td>0.0</td><td>0.0</td><td>0.0</td><td>0.5641896</td><td>-16733.938</td><td>4.089147</td><td>0.0</td><td>0</td></tr>\n",
       "<tr><td>16</td><td>--</td><td>--</td><td>0</td><td>R22_S00</td><td>2024121000030</td><td>0.0</td><td>0.0</td><td>0.0</td><td>0.0</td><td>0.5641896</td><td>-12307.021</td><td>3.8053083</td><td>0.0</td><td>0</td></tr>\n",
       "<tr><td>17</td><td>--</td><td>--</td><td>0</td><td>R22_S02</td><td>2024121000030</td><td>0.0</td><td>0.0</td><td>0.0</td><td>0.0</td><td>0.5641896</td><td>8065.359</td><td>4.2037325</td><td>0.0</td><td>0</td></tr>\n",
       "<tr><td>18</td><td>--</td><td>--</td><td>0</td><td>R22_S11</td><td>2024121000030</td><td>0.0</td><td>0.0</td><td>0.0</td><td>0.0</td><td>0.5641896</td><td>-2530.506</td><td>3.8456717</td><td>0.0</td><td>0</td></tr>\n",
       "</table></div>"
      ],
      "text/plain": [
       "<Table length=18>\n",
       "  id  coord_ra coord_dec parent ...   signal    bkg_mean bkg_std footprint\n",
       "        rad       rad           ...                                       \n",
       "int64 float64   float64  int64  ...  float32    float32  float32   int32  \n",
       "----- -------- --------- ------ ... ---------- --------- ------- ---------\n",
       "    1       --        --      0 ... 28740756.0 5.0715957     0.0         0\n",
       "    2       --        --      0 ... 29166896.0  4.763646     0.0         0\n",
       "    3       --        --      0 ... 29123442.0  5.454216     0.0         0\n",
       "    4       --        --      0 ... 27170416.0 6.6865454     0.0         0\n",
       "    5       --        --      0 ... 28126378.0  5.137125     0.0         0\n",
       "    6       --        --      0 ... 30576934.0 5.6451054     0.0         0\n",
       "    7       --        --      0 ... 28464264.0  5.027025     0.0         0\n",
       "    8       --        --      0 ... 28135420.0 4.4913683     0.0         0\n",
       "    9       --        --      0 ... 31156176.0  5.871464     0.0         0\n",
       "   10       --        --      0 ... -17817.238 4.0293484     0.0         0\n",
       "   11       --        --      0 ...  -8496.401 3.7520313     0.0         0\n",
       "   12       --        --      0 ...   9597.019   3.09976     0.0         0\n",
       "   13       --        --      0 ... -21838.984 4.2245045     0.0         0\n",
       "   14       --        --      0 ... -2354.8843 4.1281548     0.0         0\n",
       "   15       --        --      0 ... -16733.938  4.089147     0.0         0\n",
       "   16       --        --      0 ... -12307.021 3.8053083     0.0         0\n",
       "   17       --        --      0 ...   8065.359 4.2037325     0.0         0\n",
       "   18       --        --      0 ...  -2530.506 3.8456717     0.0         0"
      ]
     },
     "execution_count": 42,
     "metadata": {},
     "output_type": "execute_result"
    }
   ],
   "source": [
    "a"
   ]
  },
  {
   "cell_type": "markdown",
   "id": "b2f68e05-acab-4bdc-ae8d-0033f45d9b1f",
   "metadata": {},
   "source": [
    "#### Known spots"
   ]
  },
  {
   "cell_type": "code",
   "execution_count": 25,
   "id": "1d825a5e-6380-49a6-9459-6cf34881a9ce",
   "metadata": {
    "execution": {
     "iopub.execute_input": "2025-04-08T08:41:35.357518Z",
     "iopub.status.busy": "2025-04-08T08:41:35.357258Z",
     "iopub.status.idle": "2025-04-08T08:41:35.359924Z",
     "shell.execute_reply": "2025-04-08T08:41:35.359505Z",
     "shell.execute_reply.started": "2025-04-08T08:41:35.357501Z"
    }
   },
   "outputs": [],
   "source": [
    "x, y, radius = sp.x, sp.y, sp.radius #Using previously found spot"
   ]
  },
  {
   "cell_type": "code",
   "execution_count": 26,
   "id": "d9a96d1b-7757-457f-8656-b0a1f26ec7a5",
   "metadata": {
    "execution": {
     "iopub.execute_input": "2025-04-08T08:41:35.597302Z",
     "iopub.status.busy": "2025-04-08T08:41:35.597049Z",
     "iopub.status.idle": "2025-04-08T08:41:35.599249Z",
     "shell.execute_reply": "2025-04-08T08:41:35.598888Z",
     "shell.execute_reply.started": "2025-04-08T08:41:35.597288Z"
    }
   },
   "outputs": [],
   "source": [
    "sp = Spot(x=x ,y=y , radius=radius) #We give the size of the mask pinhole, it remains an indicator only"
   ]
  },
  {
   "cell_type": "markdown",
   "id": "73d21e0d-3da9-4a7d-8156-75a0284e6cc1",
   "metadata": {},
   "source": [
    "### AperturePhotometry module"
   ]
  },
  {
   "cell_type": "markdown",
   "id": "b3d948a6-2f48-4166-bf91-ca6fc8c286cb",
   "metadata": {},
   "source": [
    "It is mandatory to use a spot and an image"
   ]
  },
  {
   "cell_type": "code",
   "execution_count": 2,
   "id": "9dced2ee-5c0e-40f5-af02-c28959e2dd92",
   "metadata": {
    "execution": {
     "iopub.execute_input": "2025-03-21T10:14:09.567005Z",
     "iopub.status.busy": "2025-03-21T10:14:09.566544Z",
     "iopub.status.idle": "2025-03-21T10:14:11.023288Z",
     "shell.execute_reply": "2025-03-21T10:14:11.022939Z",
     "shell.execute_reply.started": "2025-03-21T10:14:09.566989Z"
    }
   },
   "outputs": [
    {
     "name": "stdout",
     "output_type": "stream",
     "text": [
      "One dataset found\n"
     ]
    }
   ],
   "source": [
    "sp = Spot(x=1670 ,y=2587 , radius=149)\n",
    "dataId={\"exposure\":2024121000100,\"detector\":7}\n",
    "idata = ImageData(\"embargo_new\", \"LSSTComCam/nightlyValidation\", \"LSSTComCam\", dataId, \"postISRCCD\")\n",
    "idata.get_image()\n",
    "ap = AperturePhotometry(image=idata, spot=sp)"
   ]
  },
  {
   "cell_type": "code",
   "execution_count": 3,
   "id": "b4ffeb75-f422-4cb9-a008-90146552fdcd",
   "metadata": {
    "execution": {
     "iopub.execute_input": "2025-03-21T10:14:11.023970Z",
     "iopub.status.busy": "2025-03-21T10:14:11.023837Z",
     "iopub.status.idle": "2025-03-21T10:14:12.160270Z",
     "shell.execute_reply": "2025-03-21T10:14:12.159891Z",
     "shell.execute_reply.started": "2025-03-21T10:14:11.023957Z"
    }
   },
   "outputs": [],
   "source": [
    "background_2d_thrshld = ap.get_2d_background_threshold()"
   ]
  },
  {
   "cell_type": "code",
   "execution_count": 4,
   "id": "fef13682-48c0-4e7b-8585-9311e41d4cd8",
   "metadata": {
    "execution": {
     "iopub.execute_input": "2025-03-21T10:14:12.160967Z",
     "iopub.status.busy": "2025-03-21T10:14:12.160835Z",
     "iopub.status.idle": "2025-03-21T10:14:13.266066Z",
     "shell.execute_reply": "2025-03-21T10:14:13.265649Z",
     "shell.execute_reply.started": "2025-03-21T10:14:12.160955Z"
    }
   },
   "outputs": [],
   "source": [
    "bkg_aperture = ap.generate_aperture(centroid=ap.Spot.centroid, radius=400)\n",
    "background_2d_ap = ap.get_2d_background_aperture(aperture = bkg_aperture)"
   ]
  },
  {
   "cell_type": "code",
   "execution_count": 5,
   "id": "bc49d312-518f-4c19-855c-60458bd7c645",
   "metadata": {
    "execution": {
     "iopub.execute_input": "2025-03-21T10:14:13.781583Z",
     "iopub.status.busy": "2025-03-21T10:14:13.781071Z",
     "iopub.status.idle": "2025-03-21T10:14:13.835776Z",
     "shell.execute_reply": "2025-03-21T10:14:13.835450Z",
     "shell.execute_reply.started": "2025-03-21T10:14:13.781556Z"
    }
   },
   "outputs": [
    {
     "name": "stdout",
     "output_type": "stream",
     "text": [
      "5.139276\n"
     ]
    }
   ],
   "source": [
    "mean_bkg = ap.get_mean_background()\n",
    "print(mean_bkg)"
   ]
  },
  {
   "cell_type": "code",
   "execution_count": 6,
   "id": "09155138-f51b-45ac-b687-93e0b7f67e48",
   "metadata": {
    "execution": {
     "iopub.execute_input": "2025-03-21T10:14:21.089629Z",
     "iopub.status.busy": "2025-03-21T10:14:21.089089Z",
     "iopub.status.idle": "2025-03-21T10:14:22.391393Z",
     "shell.execute_reply": "2025-03-21T10:14:22.390923Z",
     "shell.execute_reply.started": "2025-03-21T10:14:21.089611Z"
    }
   },
   "outputs": [
    {
     "name": "stdout",
     "output_type": "stream",
     "text": [
      "One dataset found\n"
     ]
    }
   ],
   "source": [
    "dark_exp_bkg = ap.get_dark_background()"
   ]
  },
  {
   "cell_type": "code",
   "execution_count": 28,
   "id": "0e1dfec6-e46a-4c0e-a083-ebe581a14c38",
   "metadata": {
    "execution": {
     "iopub.execute_input": "2025-03-21T10:58:51.573643Z",
     "iopub.status.busy": "2025-03-21T10:58:51.573430Z",
     "iopub.status.idle": "2025-03-21T10:58:51.583651Z",
     "shell.execute_reply": "2025-03-21T10:58:51.583197Z",
     "shell.execute_reply.started": "2025-03-21T10:58:51.573628Z"
    }
   },
   "outputs": [],
   "source": [
    "substracted_background_image = ap.get_substracted_background_image(background = mean_bkg)"
   ]
  },
  {
   "cell_type": "code",
   "execution_count": 29,
   "id": "e1ab542a-4bc2-4ea0-a344-732a9a730240",
   "metadata": {
    "execution": {
     "iopub.execute_input": "2025-03-21T10:58:52.417764Z",
     "iopub.status.busy": "2025-03-21T10:58:52.417101Z",
     "iopub.status.idle": "2025-03-21T10:58:52.422183Z",
     "shell.execute_reply": "2025-03-21T10:58:52.421822Z",
     "shell.execute_reply.started": "2025-03-21T10:58:52.417747Z"
    }
   },
   "outputs": [
    {
     "name": "stdout",
     "output_type": "stream",
     "text": [
      "72940408.17241915\n"
     ]
    }
   ],
   "source": [
    "aperture = ap.generate_aperture(ap.Spot.centroid, radius=200)\n",
    "photometry = ap.do_aperture_photometry(image=substracted_background_image, aperture=aperture)\n",
    "print(photometry)"
   ]
  },
  {
   "cell_type": "code",
   "execution_count": 14,
   "id": "0e3c6f6a-857d-4bf8-bb7a-59c223b5261c",
   "metadata": {
    "execution": {
     "iopub.execute_input": "2025-03-21T10:23:02.478364Z",
     "iopub.status.busy": "2025-03-21T10:23:02.477703Z",
     "iopub.status.idle": "2025-03-21T10:23:03.520410Z",
     "shell.execute_reply": "2025-03-21T10:23:03.519995Z",
     "shell.execute_reply.started": "2025-03-21T10:23:02.478343Z"
    }
   },
   "outputs": [
    {
     "name": "stdout",
     "output_type": "stream",
     "text": [
      "72968438.49451017\n"
     ]
    }
   ],
   "source": [
    "forced_photometry = ap.do_forced_aperture_photometry(centroid=ap.Spot.centroid, radius=200)\n",
    "print(photometry)"
   ]
  },
  {
   "cell_type": "code",
   "execution_count": 21,
   "id": "7070952d-ec5a-4ab6-875b-356bcdddd73a",
   "metadata": {
    "execution": {
     "iopub.execute_input": "2025-04-08T12:23:08.676535Z",
     "iopub.status.busy": "2025-04-08T12:23:08.676229Z",
     "iopub.status.idle": "2025-04-08T12:23:08.678856Z",
     "shell.execute_reply": "2025-04-08T12:23:08.678505Z",
     "shell.execute_reply.started": "2025-04-08T12:23:08.676516Z"
    }
   },
   "outputs": [],
   "source": [
    "from astropy.table import Table "
   ]
  },
  {
   "cell_type": "code",
   "execution_count": 22,
   "id": "a1fe0f46-2c89-4e26-a811-eb6e88198417",
   "metadata": {
    "execution": {
     "iopub.execute_input": "2025-04-08T12:23:28.320990Z",
     "iopub.status.busy": "2025-04-08T12:23:28.320787Z",
     "iopub.status.idle": "2025-04-08T12:23:28.361058Z",
     "shell.execute_reply": "2025-04-08T12:23:28.360645Z",
     "shell.execute_reply.started": "2025-04-08T12:23:28.320975Z"
    }
   },
   "outputs": [],
   "source": [
    "a = Table.read(\"/sdf/group/rubin/user/amouroux/DATA/CBP/Comcamspotmeasurement/test_eo_task/20241210_200.fits\")"
   ]
  },
  {
   "cell_type": "code",
   "execution_count": 23,
   "id": "9c29930f-ea6e-441e-b744-b4a5d270e101",
   "metadata": {
    "execution": {
     "iopub.execute_input": "2025-04-08T12:23:30.440388Z",
     "iopub.status.busy": "2025-04-08T12:23:30.440088Z",
     "iopub.status.idle": "2025-04-08T12:23:30.445040Z",
     "shell.execute_reply": "2025-04-08T12:23:30.444673Z",
     "shell.execute_reply.started": "2025-04-08T12:23:30.440371Z"
    }
   },
   "outputs": [
    {
     "data": {
      "text/html": [
       "<div><i>Table length=5</i>\n",
       "<table id=\"table139753579649104\" class=\"table-striped table-bordered table-condensed\">\n",
       "<thead><tr><th>id</th><th>coord_ra</th><th>coord_dec</th><th>parent</th><th>detector</th><th>exposure</th><th>x</th><th>y</th><th>x_fp</th><th>y_fp</th><th>radius</th><th>signal</th><th>bkg_mean</th><th>bkg_std</th><th>footprint</th></tr></thead>\n",
       "<thead><tr><th></th><th>rad</th><th>rad</th><th></th><th></th><th></th><th></th><th></th><th></th><th></th><th></th><th></th><th></th><th></th><th></th></tr></thead>\n",
       "<thead><tr><th>int64</th><th>float64</th><th>float64</th><th>int64</th><th>bytes10</th><th>int64</th><th>float32</th><th>float32</th><th>float32</th><th>float32</th><th>float32</th><th>float32</th><th>float32</th><th>float32</th><th>int32</th></tr></thead>\n",
       "<tr><td>1</td><td>--</td><td>--</td><td>0</td><td>R22_S11</td><td>0</td><td>1853.0692</td><td>2581.1003</td><td>-1.8343077</td><td>5.8060026</td><td>122.516205</td><td>26145666.0</td><td>3.4761868</td><td>0.0</td><td>0</td></tr>\n",
       "<tr><td>2</td><td>--</td><td>--</td><td>0</td><td>R22_S10</td><td>0</td><td>1727.8605</td><td>2393.0173</td><td>-45.336395</td><td>3.9251745</td><td>121.77088</td><td>25607020.0</td><td>3.2762313</td><td>0.0</td><td>0</td></tr>\n",
       "<tr><td>3</td><td>--</td><td>--</td><td>0</td><td>R22_S02</td><td>0</td><td>2153.1675</td><td>2644.2354</td><td>43.416676</td><td>-35.812645</td><td>122.37973</td><td>26495380.0</td><td>4.0176535</td><td>0.0</td><td>0</td></tr>\n",
       "<tr><td>4</td><td>--</td><td>--</td><td>0</td><td>R22_S22</td><td>0</td><td>1786.7782</td><td>2883.3352</td><td>39.75278</td><td>51.078354</td><td>121.59954</td><td>24664092.0</td><td>3.9083252</td><td>0.0</td><td>0</td></tr>\n",
       "<tr><td>5</td><td>--</td><td>--</td><td>0</td><td>R22_S01</td><td>0</td><td>2040.9208</td><td>2457.2803</td><td>0.044207193</td><td>-37.682198</td><td>123.30737</td><td>27809480.0</td><td>4.019445</td><td>0.0</td><td>0</td></tr>\n",
       "</table></div>"
      ],
      "text/plain": [
       "<Table length=5>\n",
       "  id  coord_ra coord_dec parent ...   signal    bkg_mean bkg_std footprint\n",
       "        rad       rad           ...                                       \n",
       "int64 float64   float64  int64  ...  float32    float32  float32   int32  \n",
       "----- -------- --------- ------ ... ---------- --------- ------- ---------\n",
       "    1       --        --      0 ... 26145666.0 3.4761868     0.0         0\n",
       "    2       --        --      0 ... 25607020.0 3.2762313     0.0         0\n",
       "    3       --        --      0 ... 26495380.0 4.0176535     0.0         0\n",
       "    4       --        --      0 ... 24664092.0 3.9083252     0.0         0\n",
       "    5       --        --      0 ... 27809480.0  4.019445     0.0         0"
      ]
     },
     "execution_count": 23,
     "metadata": {},
     "output_type": "execute_result"
    }
   ],
   "source": [
    "a"
   ]
  },
  {
   "cell_type": "code",
   "execution_count": null,
   "id": "0f93327c-ff8a-4c91-aa7d-600699bfc227",
   "metadata": {},
   "outputs": [],
   "source": []
  }
 ],
 "metadata": {
  "kernelspec": {
   "display_name": "LSST",
   "language": "python",
   "name": "lsst"
  },
  "language_info": {
   "codemirror_mode": {
    "name": "ipython",
    "version": 3
   },
   "file_extension": ".py",
   "mimetype": "text/x-python",
   "name": "python",
   "nbconvert_exporter": "python",
   "pygments_lexer": "ipython3",
   "version": "3.12.9"
  }
 },
 "nbformat": 4,
 "nbformat_minor": 5
}
