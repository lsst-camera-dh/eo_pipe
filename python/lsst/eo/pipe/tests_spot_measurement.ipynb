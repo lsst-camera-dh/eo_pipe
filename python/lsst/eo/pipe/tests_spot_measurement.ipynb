{
 "cells": [
  {
   "cell_type": "code",
   "execution_count": 1,
   "id": "36ea535e-424a-4e57-b803-65ddd26a9631",
   "metadata": {
    "execution": {
     "iopub.execute_input": "2025-03-21T10:14:05.332567Z",
     "iopub.status.busy": "2025-03-21T10:14:05.332439Z",
     "iopub.status.idle": "2025-03-21T10:14:08.918315Z",
     "shell.execute_reply": "2025-03-21T10:14:08.917818Z",
     "shell.execute_reply.started": "2025-03-21T10:14:05.332554Z"
    }
   },
   "outputs": [],
   "source": [
    "from photometry import Spot, ImageData, AperturePhotometry\n",
    "import numpy as np\n",
    "import matplotlib.pyplot as plt"
   ]
  },
  {
   "cell_type": "markdown",
   "id": "2a14dfc0-a208-4e25-91c3-a95bdad8d03f",
   "metadata": {},
   "source": [
    "### ImageData Module"
   ]
  },
  {
   "cell_type": "code",
   "execution_count": 18,
   "id": "2486345e-3f54-4be6-9758-ea9439455711",
   "metadata": {
    "execution": {
     "iopub.execute_input": "2025-03-21T10:35:35.677976Z",
     "iopub.status.busy": "2025-03-21T10:35:35.677342Z",
     "iopub.status.idle": "2025-03-21T10:35:35.680373Z",
     "shell.execute_reply": "2025-03-21T10:35:35.680036Z",
     "shell.execute_reply.started": "2025-03-21T10:35:35.677960Z"
    }
   },
   "outputs": [],
   "source": [
    "repo = \"embargo_new\"\n",
    "collections = [\"LSSTComCam/nightlyValidation\"]\n",
    "instrument='LSSTComCam'\n",
    "exposure=2024121000100\n",
    "dataId={\"exposure\":exposure,\"detector\":7}\n",
    "datasetType='postISRCCD'\n",
    "idata = ImageData(repo, collections[0], instrument, dataId, datasetType)"
   ]
  },
  {
   "cell_type": "code",
   "execution_count": 5,
   "id": "2a947e1d-a13b-4f00-8ca4-f9708b0303c9",
   "metadata": {
    "execution": {
     "iopub.execute_input": "2025-03-21T08:35:31.323158Z",
     "iopub.status.busy": "2025-03-21T08:35:31.323039Z",
     "iopub.status.idle": "2025-03-21T08:35:31.615196Z",
     "shell.execute_reply": "2025-03-21T08:35:31.614780Z",
     "shell.execute_reply.started": "2025-03-21T08:35:31.323147Z"
    }
   },
   "outputs": [
    {
     "name": "stdout",
     "output_type": "stream",
     "text": [
      "One dataset found\n"
     ]
    }
   ],
   "source": [
    "datasets = idata.get_datasets()\n",
    "# can also access with idata.datasets"
   ]
  },
  {
   "cell_type": "code",
   "execution_count": 7,
   "id": "cb41da1d-011b-4b24-ab7c-4ddc622bd803",
   "metadata": {
    "execution": {
     "iopub.execute_input": "2025-03-21T08:35:44.530630Z",
     "iopub.status.busy": "2025-03-21T08:35:44.530338Z",
     "iopub.status.idle": "2025-03-21T08:35:45.497357Z",
     "shell.execute_reply": "2025-03-21T08:35:45.496926Z",
     "shell.execute_reply.started": "2025-03-21T08:35:44.530615Z"
    }
   },
   "outputs": [
    {
     "name": "stdout",
     "output_type": "stream",
     "text": [
      "One dataset found\n"
     ]
    }
   ],
   "source": [
    "image = idata.get_image() #If no dataset passed, it will try to detect one and take it\n",
    "# can also access with idata.image"
   ]
  },
  {
   "cell_type": "code",
   "execution_count": null,
   "id": "da7cb7cf-71ea-44f1-8ea0-76aab876b466",
   "metadata": {},
   "outputs": [],
   "source": [
    "idata.img.metadata[\"OBSID\"] #Verify it is the ref we want"
   ]
  },
  {
   "cell_type": "code",
   "execution_count": 11,
   "id": "94173fd0-ac32-4e1b-aa30-69c959ed3246",
   "metadata": {
    "execution": {
     "iopub.execute_input": "2025-03-21T08:41:11.210079Z",
     "iopub.status.busy": "2025-03-21T08:41:11.209860Z",
     "iopub.status.idle": "2025-03-21T08:41:12.152407Z",
     "shell.execute_reply": "2025-03-21T08:41:12.151867Z",
     "shell.execute_reply.started": "2025-03-21T08:41:11.210064Z"
    }
   },
   "outputs": [
    {
     "name": "stdout",
     "output_type": "stream",
     "text": [
      "One dataset found\n"
     ]
    }
   ],
   "source": [
    "#One can also pass a dataset one ref only\n",
    "idata.dataId = {\"exposure\":2024121000103,\"detector\":7}\n",
    "dataset_2 = idata.get_datasets()\n",
    "image_2 = idata.get_image(dataset=dataset_2[0])"
   ]
  },
  {
   "cell_type": "code",
   "execution_count": 15,
   "id": "183b7021-6fb3-470f-9ba6-827c3b52c5a2",
   "metadata": {
    "execution": {
     "iopub.execute_input": "2025-03-21T08:41:54.563157Z",
     "iopub.status.busy": "2025-03-21T08:41:54.562835Z",
     "iopub.status.idle": "2025-03-21T08:41:54.566155Z",
     "shell.execute_reply": "2025-03-21T08:41:54.565796Z",
     "shell.execute_reply.started": "2025-03-21T08:41:54.563141Z"
    }
   },
   "outputs": [
    {
     "data": {
      "text/plain": [
       "'CC_O_20241210_000103'"
      ]
     },
     "execution_count": 15,
     "metadata": {},
     "output_type": "execute_result"
    }
   ],
   "source": [
    "idata.img.metadata[\"OBSID\"] #Verify it is the new ref"
   ]
  },
  {
   "cell_type": "markdown",
   "id": "5c6c73ca-db50-4448-aecc-3af7e26b91f5",
   "metadata": {},
   "source": [
    "### Spot Module"
   ]
  },
  {
   "cell_type": "code",
   "execution_count": 19,
   "id": "cb4a45eb-4c55-43c0-a412-38b44b6e900e",
   "metadata": {
    "execution": {
     "iopub.execute_input": "2025-03-21T10:35:38.466496Z",
     "iopub.status.busy": "2025-03-21T10:35:38.466037Z",
     "iopub.status.idle": "2025-03-21T10:35:38.468636Z",
     "shell.execute_reply": "2025-03-21T10:35:38.468304Z",
     "shell.execute_reply.started": "2025-03-21T10:35:38.466481Z"
    }
   },
   "outputs": [],
   "source": [
    "sp = Spot(mask_size = 150) #We give the size of the mask pinhole, it remains an indicator only"
   ]
  },
  {
   "cell_type": "code",
   "execution_count": 16,
   "id": "932f0bda-5818-4e12-b15e-5c9a36932726",
   "metadata": {
    "execution": {
     "iopub.execute_input": "2025-03-21T10:35:30.682296Z",
     "iopub.status.busy": "2025-03-21T10:35:30.681696Z",
     "iopub.status.idle": "2025-03-21T10:35:30.684189Z",
     "shell.execute_reply": "2025-03-21T10:35:30.683858Z",
     "shell.execute_reply.started": "2025-03-21T10:35:30.682281Z"
    }
   },
   "outputs": [],
   "source": [
    "# Load the image we want"
   ]
  },
  {
   "cell_type": "code",
   "execution_count": 20,
   "id": "9db6ebbe-aac0-4262-b61b-8a6043e42c5d",
   "metadata": {
    "execution": {
     "iopub.execute_input": "2025-03-21T10:35:42.301498Z",
     "iopub.status.busy": "2025-03-21T10:35:42.300818Z",
     "iopub.status.idle": "2025-03-21T10:35:43.326042Z",
     "shell.execute_reply": "2025-03-21T10:35:43.325558Z",
     "shell.execute_reply.started": "2025-03-21T10:35:42.301478Z"
    }
   },
   "outputs": [
    {
     "name": "stdout",
     "output_type": "stream",
     "text": [
      "One dataset found\n"
     ]
    }
   ],
   "source": [
    "idata = ImageData(repo, collections[0], instrument, dataId, datasetType)\n",
    "idata.dataId = {\"exposure\":2024121000100,\"detector\":7}\n",
    "image = idata.get_image()"
   ]
  },
  {
   "cell_type": "code",
   "execution_count": 21,
   "id": "43922e19-fb39-451d-a436-da37a989cf0d",
   "metadata": {
    "execution": {
     "iopub.execute_input": "2025-03-21T10:35:44.802413Z",
     "iopub.status.busy": "2025-03-21T10:35:44.801819Z",
     "iopub.status.idle": "2025-03-21T10:35:44.804800Z",
     "shell.execute_reply": "2025-03-21T10:35:44.804446Z",
     "shell.execute_reply.started": "2025-03-21T10:35:44.802397Z"
    }
   },
   "outputs": [
    {
     "name": "stdout",
     "output_type": "stream",
     "text": [
      "46584.59020688224\n"
     ]
    }
   ],
   "source": [
    "#One can get the estimated area of the spot on the focal plane\n",
    "sp.get_mask_size()\n",
    "print(sp.mask_area_fp_px)"
   ]
  },
  {
   "cell_type": "code",
   "execution_count": 22,
   "id": "fc05877c-f671-48de-80ff-ad1d7a921f6d",
   "metadata": {
    "execution": {
     "iopub.execute_input": "2025-03-21T10:35:59.096497Z",
     "iopub.status.busy": "2025-03-21T10:35:59.096186Z",
     "iopub.status.idle": "2025-03-21T10:35:59.123055Z",
     "shell.execute_reply": "2025-03-21T10:35:59.122651Z",
     "shell.execute_reply.started": "2025-03-21T10:35:59.096482Z"
    }
   },
   "outputs": [
    {
     "name": "stdout",
     "output_type": "stream",
     "text": [
      "[618 peaks, area=1896, centroid=(3549, 1051.5), 5759 peaks, area=69473, centroid=(1669.8, 2586.53)]\n"
     ]
    }
   ],
   "source": [
    "found_spot = sp.find_spot(idata.img.getImage(), threshold_adu=100,minarea=1000) #Need to pass an afw image*\n",
    "print(found_spot)"
   ]
  },
  {
   "cell_type": "code",
   "execution_count": 23,
   "id": "1ca39c2e-5a16-4c50-91b2-3514d161311e",
   "metadata": {
    "execution": {
     "iopub.execute_input": "2025-03-21T10:36:06.739143Z",
     "iopub.status.busy": "2025-03-21T10:36:06.738629Z",
     "iopub.status.idle": "2025-03-21T10:36:06.741373Z",
     "shell.execute_reply": "2025-03-21T10:36:06.741018Z",
     "shell.execute_reply.started": "2025-03-21T10:36:06.739127Z"
    }
   },
   "outputs": [],
   "source": [
    "found_spot.sort(key=lambda x: x.getArea(), reverse=True)"
   ]
  },
  {
   "cell_type": "code",
   "execution_count": 9,
   "id": "5e1328da-27b6-45b3-a1c5-b515d49c4855",
   "metadata": {
    "execution": {
     "iopub.execute_input": "2025-03-21T08:55:43.905103Z",
     "iopub.status.busy": "2025-03-21T08:55:43.904813Z",
     "iopub.status.idle": "2025-03-21T08:55:43.971514Z",
     "shell.execute_reply": "2025-03-21T08:55:43.971083Z",
     "shell.execute_reply.started": "2025-03-21T08:55:43.905088Z"
    }
   },
   "outputs": [
    {
     "name": "stdout",
     "output_type": "stream",
     "text": [
      "[4525 peaks, area=43120, centroid=(1666.13, 2592.75)]\n"
     ]
    }
   ],
   "source": [
    "iteratively_found_spot = sp.find_spot_iteratively(idata.img.getImage(), threshold_adu_min=10,threshold_adu_max=100000,minarea=1000)\n",
    "print(iteratively_found_spot)"
   ]
  },
  {
   "cell_type": "code",
   "execution_count": 15,
   "id": "91b67b0f-68d4-4821-aa65-8ebcd65ac6e2",
   "metadata": {
    "execution": {
     "iopub.execute_input": "2025-03-21T09:02:59.936349Z",
     "iopub.status.busy": "2025-03-21T09:02:59.935866Z",
     "iopub.status.idle": "2025-03-21T09:02:59.938987Z",
     "shell.execute_reply": "2025-03-21T09:02:59.938548Z",
     "shell.execute_reply.started": "2025-03-21T09:02:59.936332Z"
    }
   },
   "outputs": [
    {
     "name": "stdout",
     "output_type": "stream",
     "text": [
      "(3549, 1051.5) 3549.0 1051.5 24.566553364370574\n"
     ]
    }
   ],
   "source": [
    "sp.get_spot_information() # Get the information from the spot, if no spot passed, will use the last ones detected \n",
    "print(sp.centroid, sp.x, sp.y, sp.radius)"
   ]
  },
  {
   "cell_type": "code",
   "execution_count": 17,
   "id": "d0feca6b-5861-48df-9126-5810c35c192b",
   "metadata": {
    "execution": {
     "iopub.execute_input": "2025-03-21T09:03:37.568499Z",
     "iopub.status.busy": "2025-03-21T09:03:37.568005Z",
     "iopub.status.idle": "2025-03-21T09:03:37.570988Z",
     "shell.execute_reply": "2025-03-21T09:03:37.570647Z",
     "shell.execute_reply.started": "2025-03-21T09:03:37.568485Z"
    }
   },
   "outputs": [
    {
     "name": "stdout",
     "output_type": "stream",
     "text": [
      "(3549, 1051.5) 3549.0 1051.5 24.566553364370574\n"
     ]
    }
   ],
   "source": [
    "#Be carefull here, if multiple spots, only take the first one\n",
    "sp.get_spot_information(spot = found_spot[0])\n",
    "print(sp.centroid, sp.x, sp.y, sp.radius)"
   ]
  },
  {
   "cell_type": "code",
   "execution_count": 29,
   "id": "affbc542-65fa-47b8-b28e-092dae16856e",
   "metadata": {
    "execution": {
     "iopub.execute_input": "2025-03-21T09:15:08.915525Z",
     "iopub.status.busy": "2025-03-21T09:15:08.915180Z",
     "iopub.status.idle": "2025-03-21T09:15:08.942325Z",
     "shell.execute_reply": "2025-03-21T09:15:08.942006Z",
     "shell.execute_reply.started": "2025-03-21T09:15:08.915511Z"
    }
   },
   "outputs": [
    {
     "name": "stdout",
     "output_type": "stream",
     "text": [
      "[5759 peaks, area=69473, centroid=(1669.8, 2586.53)]\n",
      "(1669.8, 2586.5) 1669.7968131504326 2586.5290976350525 148.70757453084389\n"
     ]
    }
   ],
   "source": [
    "# We can use the previously determined area\n",
    "minarea = int(sp.mask_area_fp_px*.9)\n",
    "found_spot = sp.find_spot(idata.img.getImage(), threshold_adu=100,minarea=minarea)\n",
    "print(found_spot)\n",
    "sp.get_spot_information(spot = found_spot[0])\n",
    "print(sp.centroid, sp.x, sp.y, sp.radius)"
   ]
  },
  {
   "cell_type": "markdown",
   "id": "b2f68e05-acab-4bdc-ae8d-0033f45d9b1f",
   "metadata": {},
   "source": [
    "#### Known spots"
   ]
  },
  {
   "cell_type": "code",
   "execution_count": 31,
   "id": "1d825a5e-6380-49a6-9459-6cf34881a9ce",
   "metadata": {
    "execution": {
     "iopub.execute_input": "2025-03-21T09:18:12.737647Z",
     "iopub.status.busy": "2025-03-21T09:18:12.737399Z",
     "iopub.status.idle": "2025-03-21T09:18:12.740289Z",
     "shell.execute_reply": "2025-03-21T09:18:12.739955Z",
     "shell.execute_reply.started": "2025-03-21T09:18:12.737629Z"
    }
   },
   "outputs": [],
   "source": [
    "x, y, radius = sp.x, sp.y, sp.radius #Using previously found spot"
   ]
  },
  {
   "cell_type": "code",
   "execution_count": 32,
   "id": "d9a96d1b-7757-457f-8656-b0a1f26ec7a5",
   "metadata": {
    "execution": {
     "iopub.execute_input": "2025-03-21T09:18:12.913972Z",
     "iopub.status.busy": "2025-03-21T09:18:12.913547Z",
     "iopub.status.idle": "2025-03-21T09:18:12.915941Z",
     "shell.execute_reply": "2025-03-21T09:18:12.915662Z",
     "shell.execute_reply.started": "2025-03-21T09:18:12.913953Z"
    }
   },
   "outputs": [],
   "source": [
    "sp = Spot(x=x ,y=y , radius=radius) #We give the size of the mask pinhole, it remains an indicator only"
   ]
  },
  {
   "cell_type": "markdown",
   "id": "73d21e0d-3da9-4a7d-8156-75a0284e6cc1",
   "metadata": {},
   "source": [
    "### AperturePhotometry module"
   ]
  },
  {
   "cell_type": "markdown",
   "id": "b3d948a6-2f48-4166-bf91-ca6fc8c286cb",
   "metadata": {},
   "source": [
    "It is mandatory to use a spot and an image"
   ]
  },
  {
   "cell_type": "code",
   "execution_count": 2,
   "id": "9dced2ee-5c0e-40f5-af02-c28959e2dd92",
   "metadata": {
    "execution": {
     "iopub.execute_input": "2025-03-21T10:14:09.567005Z",
     "iopub.status.busy": "2025-03-21T10:14:09.566544Z",
     "iopub.status.idle": "2025-03-21T10:14:11.023288Z",
     "shell.execute_reply": "2025-03-21T10:14:11.022939Z",
     "shell.execute_reply.started": "2025-03-21T10:14:09.566989Z"
    }
   },
   "outputs": [
    {
     "name": "stdout",
     "output_type": "stream",
     "text": [
      "One dataset found\n"
     ]
    }
   ],
   "source": [
    "sp = Spot(x=1670 ,y=2587 , radius=149)\n",
    "dataId={\"exposure\":2024121000100,\"detector\":7}\n",
    "idata = ImageData(\"embargo_new\", \"LSSTComCam/nightlyValidation\", \"LSSTComCam\", dataId, \"postISRCCD\")\n",
    "idata.get_image()\n",
    "ap = AperturePhotometry(image=idata, spot=sp)"
   ]
  },
  {
   "cell_type": "code",
   "execution_count": 3,
   "id": "b4ffeb75-f422-4cb9-a008-90146552fdcd",
   "metadata": {
    "execution": {
     "iopub.execute_input": "2025-03-21T10:14:11.023970Z",
     "iopub.status.busy": "2025-03-21T10:14:11.023837Z",
     "iopub.status.idle": "2025-03-21T10:14:12.160270Z",
     "shell.execute_reply": "2025-03-21T10:14:12.159891Z",
     "shell.execute_reply.started": "2025-03-21T10:14:11.023957Z"
    }
   },
   "outputs": [],
   "source": [
    "background_2d_thrshld = ap.get_2d_background_threshold()"
   ]
  },
  {
   "cell_type": "code",
   "execution_count": 4,
   "id": "fef13682-48c0-4e7b-8585-9311e41d4cd8",
   "metadata": {
    "execution": {
     "iopub.execute_input": "2025-03-21T10:14:12.160967Z",
     "iopub.status.busy": "2025-03-21T10:14:12.160835Z",
     "iopub.status.idle": "2025-03-21T10:14:13.266066Z",
     "shell.execute_reply": "2025-03-21T10:14:13.265649Z",
     "shell.execute_reply.started": "2025-03-21T10:14:12.160955Z"
    }
   },
   "outputs": [],
   "source": [
    "bkg_aperture = ap.generate_aperture(centroid=ap.Spot.centroid, radius=400)\n",
    "background_2d_ap = ap.get_2d_background_aperture(aperture = bkg_aperture)"
   ]
  },
  {
   "cell_type": "code",
   "execution_count": 5,
   "id": "bc49d312-518f-4c19-855c-60458bd7c645",
   "metadata": {
    "execution": {
     "iopub.execute_input": "2025-03-21T10:14:13.781583Z",
     "iopub.status.busy": "2025-03-21T10:14:13.781071Z",
     "iopub.status.idle": "2025-03-21T10:14:13.835776Z",
     "shell.execute_reply": "2025-03-21T10:14:13.835450Z",
     "shell.execute_reply.started": "2025-03-21T10:14:13.781556Z"
    }
   },
   "outputs": [
    {
     "name": "stdout",
     "output_type": "stream",
     "text": [
      "5.139276\n"
     ]
    }
   ],
   "source": [
    "mean_bkg = ap.get_mean_background()\n",
    "print(mean_bkg)"
   ]
  },
  {
   "cell_type": "code",
   "execution_count": 6,
   "id": "09155138-f51b-45ac-b687-93e0b7f67e48",
   "metadata": {
    "execution": {
     "iopub.execute_input": "2025-03-21T10:14:21.089629Z",
     "iopub.status.busy": "2025-03-21T10:14:21.089089Z",
     "iopub.status.idle": "2025-03-21T10:14:22.391393Z",
     "shell.execute_reply": "2025-03-21T10:14:22.390923Z",
     "shell.execute_reply.started": "2025-03-21T10:14:21.089611Z"
    }
   },
   "outputs": [
    {
     "name": "stdout",
     "output_type": "stream",
     "text": [
      "One dataset found\n"
     ]
    }
   ],
   "source": [
    "dark_exp_bkg = ap.get_dark_background()"
   ]
  },
  {
   "cell_type": "code",
   "execution_count": 28,
   "id": "0e1dfec6-e46a-4c0e-a083-ebe581a14c38",
   "metadata": {
    "execution": {
     "iopub.execute_input": "2025-03-21T10:58:51.573643Z",
     "iopub.status.busy": "2025-03-21T10:58:51.573430Z",
     "iopub.status.idle": "2025-03-21T10:58:51.583651Z",
     "shell.execute_reply": "2025-03-21T10:58:51.583197Z",
     "shell.execute_reply.started": "2025-03-21T10:58:51.573628Z"
    }
   },
   "outputs": [],
   "source": [
    "substracted_background_image = ap.get_substracted_background_image(background = mean_bkg)"
   ]
  },
  {
   "cell_type": "code",
   "execution_count": 29,
   "id": "e1ab542a-4bc2-4ea0-a344-732a9a730240",
   "metadata": {
    "execution": {
     "iopub.execute_input": "2025-03-21T10:58:52.417764Z",
     "iopub.status.busy": "2025-03-21T10:58:52.417101Z",
     "iopub.status.idle": "2025-03-21T10:58:52.422183Z",
     "shell.execute_reply": "2025-03-21T10:58:52.421822Z",
     "shell.execute_reply.started": "2025-03-21T10:58:52.417747Z"
    }
   },
   "outputs": [
    {
     "name": "stdout",
     "output_type": "stream",
     "text": [
      "72940408.17241915\n"
     ]
    }
   ],
   "source": [
    "aperture = ap.generate_aperture(ap.Spot.centroid, radius=200)\n",
    "photometry = ap.do_aperture_photometry(image=substracted_background_image, aperture=aperture)\n",
    "print(photometry)"
   ]
  },
  {
   "cell_type": "code",
   "execution_count": 14,
   "id": "0e3c6f6a-857d-4bf8-bb7a-59c223b5261c",
   "metadata": {
    "execution": {
     "iopub.execute_input": "2025-03-21T10:23:02.478364Z",
     "iopub.status.busy": "2025-03-21T10:23:02.477703Z",
     "iopub.status.idle": "2025-03-21T10:23:03.520410Z",
     "shell.execute_reply": "2025-03-21T10:23:03.519995Z",
     "shell.execute_reply.started": "2025-03-21T10:23:02.478343Z"
    }
   },
   "outputs": [
    {
     "name": "stdout",
     "output_type": "stream",
     "text": [
      "72968438.49451017\n"
     ]
    }
   ],
   "source": [
    "forced_photometry = ap.do_forced_aperture_photometry(centroid=ap.Spot.centroid, radius=200)\n",
    "print(photometry)"
   ]
  }
 ],
 "metadata": {
  "kernelspec": {
   "display_name": "LSST",
   "language": "python",
   "name": "lsst"
  },
  "language_info": {
   "codemirror_mode": {
    "name": "ipython",
    "version": 3
   },
   "file_extension": ".py",
   "mimetype": "text/x-python",
   "name": "python",
   "nbconvert_exporter": "python",
   "pygments_lexer": "ipython3",
   "version": "3.12.9"
  }
 },
 "nbformat": 4,
 "nbformat_minor": 5
}
